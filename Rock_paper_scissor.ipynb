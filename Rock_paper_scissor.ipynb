{
 "cells": [
  {
   "cell_type": "code",
   "execution_count": 28,
   "metadata": {
    "collapsed": true
   },
   "outputs": [
    {
     "name": "stdout",
     "output_type": "stream",
     "text": [
      "exiting\n"
     ]
    }
   ],
   "source": [
    "#unfair computer\n",
    "while True:\n",
    "    player_choice = input('enter your choice(type exit to exit)')\n",
    "    if player_choice == 'rock':\n",
    "        print('Sorry, computer chose paper')\n",
    "    if player_choice == 'paper':\n",
    "        print('Sorry, computer chose scissors')\n",
    "    if player_choice == 'scissors':\n",
    "        print('Sorry, computer chose rock')\n",
    "    if player_choice == 'exit':\n",
    "        print('exiting')\n",
    "        break"
   ]
  },
  {
   "cell_type": "code",
   "execution_count": 27,
   "outputs": [
    {
     "name": "stdout",
     "output_type": "stream",
     "text": [
      "scissor\n"
     ]
    }
   ],
   "source": [
    "#optimized unfair computer\n",
    "while True:\n",
    "    options = ('rock','paper','scissor')\n",
    "    player_choice = input('enter your choice(type exit to exit)')\n",
    "    if player_choice is 'exit':\n",
    "        break\n",
    "    comp_res = options[(((options.index(player_choice)) +1)% len(options))]\n",
    "    print('You lose, computer chose {}'.format(comp_res))"
   ],
   "metadata": {
    "collapsed": false,
    "pycharm": {
     "name": "#%%\n"
    }
   }
  },
  {
   "cell_type": "code",
   "execution_count": 5,
   "outputs": [
    {
     "name": "stdout",
     "output_type": "stream",
     "text": [
      "Sorry, you lost computer chose scissor you chose paper\n",
      "Sorry, you lost computer chose paper you chose rock\n",
      "Game Finished\n",
      " final scores:-\n",
      "player 0\n",
      "computer 2\n",
      "Boooo, you lost\n"
     ]
    }
   ],
   "source": [
    "#fair chance computer\n",
    "import random\n",
    "options = ('rock', 'paper', 'scissor')\n",
    "player_score = 0\n",
    "computer_score = 0\n",
    "while True:\n",
    "    comp_choice = random.choice(options)\n",
    "    player_choice = input('enter your choice(type exit to exit)')\n",
    "    if player_choice == 'exit':\n",
    "            print('Game Finished')\n",
    "            break\n",
    "    if player_choice not in options:\n",
    "                print('invalid choice, try again')\n",
    "                continue\n",
    "    pi = options.index(player_choice)\n",
    "    ci = options.index(comp_choice)\n",
    "    diff = pi - ci\n",
    "    if diff is 0 :\n",
    "            print('Draw, computer chose {} and you chose {}'.format(comp_choice,player_choice))\n",
    "            continue\n",
    "    if pi is (ci + 1)%3:\n",
    "            print('Congratulations, you won computer chose {} you chose {}'.format(comp_choice,player_choice))\n",
    "            player_score += 1\n",
    "            continue\n",
    "    else:\n",
    "            print('Sorry, you lost computer chose {} you chose {}'.format(comp_choice,player_choice))\n",
    "            computer_score += 1\n",
    "print(' final scores:-\\nplayer {}\\ncomputer {}'.format(player_score,computer_score))\n",
    "if player_score > computer_score:\n",
    "    print('Congratulations, you are a champion')\n",
    "else:\n",
    "    print('Boooo, you lost')"
   ],
   "metadata": {
    "collapsed": false,
    "pycharm": {
     "name": "#%%\n"
    }
   }
  },
  {
   "cell_type": "code",
   "execution_count": null,
   "outputs": [],
   "source": [],
   "metadata": {
    "collapsed": false,
    "pycharm": {
     "name": "#%%\n"
    }
   }
  }
 ],
 "metadata": {
  "kernelspec": {
   "name": "pycharm-26beb7c4",
   "language": "python",
   "display_name": "PyCharm (Jupyter)"
  },
  "language_info": {
   "codemirror_mode": {
    "name": "ipython",
    "version": 2
   },
   "file_extension": ".py",
   "mimetype": "text/x-python",
   "name": "python",
   "nbconvert_exporter": "python",
   "pygments_lexer": "ipython2",
   "version": "2.7.6"
  }
 },
 "nbformat": 4,
 "nbformat_minor": 0
}