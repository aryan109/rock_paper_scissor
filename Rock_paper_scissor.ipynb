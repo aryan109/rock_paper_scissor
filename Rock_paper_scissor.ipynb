{
 "cells": [
  {
   "cell_type": "code",
   "execution_count": 2,
   "metadata": {
    "collapsed": true
   },
   "outputs": [
    {
     "name": "stdout",
     "output_type": "stream",
     "text": [
      "Sorry, computer chose scissors\n",
      "Sorry, computer chose scissors\n",
      "Sorry, computer chose paper\n",
      "Sorry, computer chose paper\n",
      "exiting\n"
     ]
    }
   ],
   "source": [
    "#unfair computer\n",
    "while True:\n",
    "    player_choice = input('enter your choice(type exit to exit)')\n",
    "    if player_choice == 'rock':\n",
    "        print('Sorry, computer chose paper')\n",
    "    if player_choice == 'paper':\n",
    "        print('Sorry, computer chose scissors')\n",
    "    if player_choice == 'scissors':\n",
    "        print('Sorry, computer chose rock')\n",
    "    if player_choice == 'exit':\n",
    "        print('exiting')\n",
    "        break\n"
   ]
  },
  {
   "cell_type": "code",
   "execution_count": null,
   "outputs": [],
   "source": [
    "\n"
   ],
   "metadata": {
    "collapsed": false,
    "pycharm": {
     "name": "#%%\n"
    }
   }
  }
 ],
 "metadata": {
  "kernelspec": {
   "name": "pycharm-26beb7c4",
   "language": "python",
   "display_name": "PyCharm (Jupyter)"
  },
  "language_info": {
   "codemirror_mode": {
    "name": "ipython",
    "version": 2
   },
   "file_extension": ".py",
   "mimetype": "text/x-python",
   "name": "python",
   "nbconvert_exporter": "python",
   "pygments_lexer": "ipython2",
   "version": "2.7.6"
  }
 },
 "nbformat": 4,
 "nbformat_minor": 0
}